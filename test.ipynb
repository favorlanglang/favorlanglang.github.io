{
 "cells": [
  {
   "cell_type": "code",
   "execution_count": 3,
   "metadata": {},
   "outputs": [],
   "source": [
    "from jinja2 import Environment, FileSystemLoader, select_autoescape\n",
    "from construct_dict import getDictItems\n",
    "\n",
    "env = Environment(\n",
    "    loader=FileSystemLoader('templates')\n",
    ")\n"
   ]
  },
  {
   "cell_type": "code",
   "execution_count": 8,
   "metadata": {},
   "outputs": [],
   "source": [
    "# render index.html\n",
    "template = env.get_template('index.html')\n",
    "\n",
    "with open(\"index.html\", 'w', encoding=\"utf-8\") as f:\n",
    "    html_str = template.render(sidebar=True)\n",
    "    f.write(html_str)"
   ]
  },
  {
   "cell_type": "code",
   "execution_count": 14,
   "metadata": {},
   "outputs": [],
   "source": [
    "# render intro.html\n",
    "template = env.get_template('intro.html')\n",
    "\n",
    "with open(\"intro.html\", 'w', encoding=\"utf-8\") as f:\n",
    "    html_str = template.render(sidebar=False, sectionTitle=\"簡介\")\n",
    "    f.write(html_str)"
   ]
  },
  {
   "cell_type": "code",
   "execution_count": 15,
   "metadata": {},
   "outputs": [],
   "source": [
    "# Render search.html\n",
    "template = env.get_template('search.html')\n",
    "#template.render()\n",
    "with open(\"search.html\", 'w', encoding=\"utf-8\") as f:\n",
    "    html_str = template.render(sidebar=False)\n",
    "    f.write(html_str)\n",
    "    "
   ]
  },
  {
   "cell_type": "code",
   "execution_count": 6,
   "metadata": {},
   "outputs": [],
   "source": [
    "# render dict.html\n",
    "dict_str, toc_str = getDictItems()\n",
    "template = env.get_template('dict.html')\n",
    "with open(\"dict.html\", 'w', encoding=\"utf-8\") as f:\n",
    "    html_str = template.render(dictionary=dict_str, toc=toc_str, sidebar=False)\n",
    "    f.write(html_str)"
   ]
  },
  {
   "cell_type": "code",
   "execution_count": 2,
   "metadata": {},
   "outputs": [],
   "source": []
  },
  {
   "cell_type": "code",
   "execution_count": null,
   "metadata": {},
   "outputs": [],
   "source": []
  },
  {
   "cell_type": "code",
   "execution_count": null,
   "metadata": {},
   "outputs": [],
   "source": []
  }
 ],
 "metadata": {
  "kernelspec": {
   "display_name": "Python 3",
   "language": "python",
   "name": "python3"
  },
  "language_info": {
   "codemirror_mode": {
    "name": "ipython",
    "version": 3
   },
   "file_extension": ".py",
   "mimetype": "text/x-python",
   "name": "python",
   "nbconvert_exporter": "python",
   "pygments_lexer": "ipython3",
   "version": "3.7.1"
  }
 },
 "nbformat": 4,
 "nbformat_minor": 2
}
