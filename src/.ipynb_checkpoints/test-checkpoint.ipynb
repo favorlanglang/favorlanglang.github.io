{
 "cells": [
  {
   "cell_type": "code",
   "execution_count": 3,
   "metadata": {},
   "outputs": [],
   "source": [
    "with open(\"dict-template.html\", encoding=\"utf-8\") as f:\n",
    "    html_template = ''.join([line.strip() for line in f])"
   ]
  },
  {
   "cell_type": "code",
   "execution_count": 5,
   "metadata": {},
   "outputs": [
    {
     "data": {
      "text/plain": [
       "'<!DOCTYPE HTML><!--Iridium by TEMPLATEDtemplated.co @templatedcoReleased for free under the Creative Commons Attribution 3.0 license (templated.co/license)--><html><head><title>Favorlang Dictionary</title><meta http-equiv=\"content-type\" content=\"text/html; charset=utf-8\" /><meta name=\"description\" content=\"\" /><meta name=\"keywords\" content=\"\" /><link href=\\'http://fonts.googleapis.com/css?family=Arimo:400,700\\' rel=\\'stylesheet\\' type=\\'text/css\\'><!--[if lte IE 8]><script src=\"js/html5shiv.js\"></script><![endif]--><script src=\"http://ajax.googleapis.com/ajax/libs/jquery/1.11.0/jquery.min.js\"></script><script src=\"js/skel.min.js\"></script><script src=\"js/skel-panels.min.js\"></script><script src=\"js/init.js\"></script><noscript><link rel=\"stylesheet\" href=\"css/skel-noscript.css\" /><link rel=\"stylesheet\" href=\"css/style.css\" /><link rel=\"stylesheet\" href=\"css/style-desktop.css\" /></noscript><!--[if lte IE 8]><link rel=\"stylesheet\" href=\"css/ie/v8.css\" /><![endif]--><!--[if lte IE 9]><link rel=\"stylesheet\" href=\"css/ie/v9.css\" /><![endif]--><script src=\"js/custom.js\"></script></head><body class=\"no-sidebar\"><!-- Header --><div id=\"header\"><div class=\"container\"><!-- Logo --><div id=\"logo\"><h1><a href=\"#\">虎尾壟語字典</a></h1><span>Favorlang Dictionary Transcribed</span></div><!-- Nav --><nav id=\"nav\"><ul><li><a href=\"index.html\">首頁</a></li><li><a href=\"\">簡介</a></li><!-- <li class=\"active\"><a href=\"right-sidebar.html\">Right Sidebar</a></li> --><li><a href=\"dict.html\">字典</a></li><li><a href=\"\">電子檢索</a></li></ul></nav></div></div><!-- Main --><div id=\"main\"><div class=\"container\"><div class=\"row\"><!-- Content --><div id=\"content\" class=\"12u skel-cell-important\"><section><header><h2>字典詞條</h2><span class=\"byline\">Dictionary Entries</span></header><ul class=\"toc\">TOCCCCCCCCC</ul><div class=\"dict\">DICT</div></section></div></div></div></div><!-- Footer --><div id=\"footer\"><div class=\"container\"><div class=\"row\"><div class=\"4u\"><section><h2>Latest Posts</h2><ul class=\"default\"><li><a href=\"#\">Pellentesque lectus gravida blandit</a></li><li><a href=\"#\">Lorem ipsum consectetuer adipiscing</a></li><li><a href=\"#\">Phasellus nibh pellentesque congue</a></li><li><a href=\"#\">Cras vitae metus aliquam pharetra</a></li><li><a href=\"#\">Maecenas vitae orci feugiat eleifend</a></li></ul></section></div><div class=\"4u\"><section><h2>Ultrices fringilla</h2><ul class=\"default\"><li><a href=\"#\">Pellentesque lectus gravida blandit</a></li><li><a href=\"#\">Lorem ipsum consectetuer adipiscing</a></li><li><a href=\"#\">Phasellus nibh pellentesque congue</a></li><li><a href=\"#\">Cras vitae metus aliquam pharetra</a></li><li><a href=\"#\">Maecenas vitae orci feugiat eleifend</a></li></ul></section></div><div class=\"4u\"><section><h2>Aenean elementum</h2><ul class=\"default\"><li><a href=\"#\">Pellentesque lectus gravida blandit</a></li><li><a href=\"#\">Lorem ipsum consectetuer adipiscing</a></li><li><a href=\"#\">Phasellus nibh pellentesque congue</a></li><li><a href=\"#\">Cras vitae metus aliquam pharetra</a></li><li><a href=\"#\">Maecenas vitae orci feugiat eleifend</a></li></ul></section></div></div></div></div><!-- Copyright --><div id=\"copyright\"><div class=\"container\">Design: <a href=\"http://templated.co\">TEMPLATED</a> Images: <a href=\"http://unsplash.com\">Unsplash</a> (<a href=\"http://unsplash.com/cc0\">CC0</a>)</div></div></body></html>'"
      ]
     },
     "execution_count": 5,
     "metadata": {},
     "output_type": "execute_result"
    }
   ],
   "source": [
    "html_template.format(toc=\"TOCCCCCCCCC\",\n",
    "                    dictionary=\"DICT\") "
   ]
  },
  {
   "cell_type": "code",
   "execution_count": null,
   "metadata": {},
   "outputs": [],
   "source": []
  }
 ],
 "metadata": {
  "kernelspec": {
   "display_name": "Python 3",
   "language": "python",
   "name": "python3"
  },
  "language_info": {
   "codemirror_mode": {
    "name": "ipython",
    "version": 3
   },
   "file_extension": ".py",
   "mimetype": "text/x-python",
   "name": "python",
   "nbconvert_exporter": "python",
   "pygments_lexer": "ipython3",
   "version": "3.7.1"
  }
 },
 "nbformat": 4,
 "nbformat_minor": 2
}
